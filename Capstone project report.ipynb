{
    "cells": [
        {
            "cell_type": "markdown",
            "metadata": {
                "collapsed": true
            },
            "source": "# Capstone Project: Predicting Severity of Road Accidents."
        },
        {
            "cell_type": "markdown",
            "metadata": {},
            "source": "## Introduction"
        },
        {
            "cell_type": "markdown",
            "metadata": {},
            "source": "Road accidents are a very common problem in todays day and age. The severity of accidents varies from minor(which can result in a scratch on your car) to fatal(which can lead to a loss of life). I think we can all agree that we would all love to prevent accidents from occuring and so I would like to share with you my aim for this project. My aim is to build a model that can predict the severity of an accident. The target audience that my model would be helpful would be the local authority. This is because they can find the cause of accidents and find ways to prevent them from occuring."
        },
        {
            "cell_type": "markdown",
            "metadata": {},
            "source": "## Data"
        },
        {
            "cell_type": "markdown",
            "metadata": {},
            "source": "The data will be from a data set from the Seattle Police Department. It contains over 190,000 observations collected in the last 15+ years. This data was included in our coursera course: Applied Data Science capstone (week 1).\n\nThe features we will use are:\n- ADDRTYPE\n- WEATHER \n- SEVERITYCODE\n- JUNCTION TYPE \n- SDOT_COLDESC (Description of collision)\n- LIGHTCOND"
        },
        {
            "cell_type": "code",
            "execution_count": null,
            "metadata": {},
            "outputs": [],
            "source": ""
        }
    ],
    "metadata": {
        "kernelspec": {
            "display_name": "Python 3.6",
            "language": "python",
            "name": "python3"
        },
        "language_info": {
            "codemirror_mode": {
                "name": "ipython",
                "version": 3
            },
            "file_extension": ".py",
            "mimetype": "text/x-python",
            "name": "python",
            "nbconvert_exporter": "python",
            "pygments_lexer": "ipython3",
            "version": "3.6.9"
        }
    },
    "nbformat": 4,
    "nbformat_minor": 1
}